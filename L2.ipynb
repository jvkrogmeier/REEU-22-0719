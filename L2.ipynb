{
 "cells": [
  {
   "cell_type": "markdown",
   "metadata": {},
   "source": [
    "# Lecture 2\n",
    "\n",
    "(Summer 2022)\n",
    "\n",
    "## Outline of topics for this segment:\n",
    "\n",
    "1. The math package\n",
    "2. The NumPy package\n",
    "3. Plotting\n",
    "4. Numpy arrays\n",
    "5. Array indexing\n",
    "6. SciPy and numerical linear algebra\n",
    "7. Least squares\n"
   ]
  },
  {
   "cell_type": "markdown",
   "metadata": {},
   "source": [
    "## Some useful background material:\n",
    "\n",
    "The <a href=\"https://the-examples-book.com/book/introduction\" target=\"_blank\">Purdue Data Mine Examples Book</a> contains many useful chapters on data science. While they have not been directly designed for this class, they may be useful. You will not need to use scholar to perform the exercises of this class so don't worry about that part. Here is a direct link to the <a href=\"https://the-examples-book.com/book/python/introduction\" target=\"_blank\">Python chapter.</a>\n"
   ]
  },
  {
   "cell_type": "markdown",
   "metadata": {},
   "source": [
    "## 1. The Math Package\n",
    "\n",
    "Python provides many modules designed for specialized programming tasks. See: <a href=\"https://pypi.org\" target=\"_blank\">The Python Package Index</a>.\n",
    "\n",
    "The math package contains trigonometric, exponential, logarithmic, hyperbolic, and special functions. It also contains a number of useful constants such as `pi` and `e`.\n",
    "\n",
    "### Recall our homemade square root function ..."
   ]
  },
  {
   "cell_type": "code",
   "execution_count": 1,
   "metadata": {},
   "outputs": [],
   "source": [
    "# A solution to the HW problem of the last class is the function ...\n",
    "def Newtroot(z,epsilon):\n",
    "    x = 1\n",
    "    xp = (x + z/x)/2\n",
    "    e = (xp - x)/x\n",
    "    while (e > epsilon) or (-epsilon > e):\n",
    "        x = xp\n",
    "        xp = (x + z/x)/2\n",
    "        e = (xp - x)/x\n",
    "    return xp    "
   ]
  },
  {
   "cell_type": "markdown",
   "metadata": {},
   "source": [
    "### The math package also has a square root function ..."
   ]
  },
  {
   "cell_type": "code",
   "execution_count": 2,
   "metadata": {},
   "outputs": [
    {
     "name": "stdout",
     "output_type": "stream",
     "text": [
      "Homemade square root: 3.162277660168379\n",
      "Math package square root: 3.1622776601683795\n"
     ]
    }
   ],
   "source": [
    "# This command fetches the math package and makes it available to the python program we are running\n",
    "\n",
    "import math\n",
    "\n",
    "# Now compute the square root of 10 in two ways ...\n",
    "\n",
    "print(\"Homemade square root:\", Newtroot(10,1e-8))\n",
    "print(\"Math package square root:\", math.sqrt(10))"
   ]
  },
  {
   "cell_type": "markdown",
   "metadata": {},
   "source": [
    "### It might be interesting to compare the speeds of the two square root functions ...\n",
    "\n",
    "For this python provides two commands for profiling and timing python code\n",
    "\n",
    "* `%time` = time the execution of a single statement\n",
    "* `%timeit` = time the execution of a single statement by averaging"
   ]
  },
  {
   "cell_type": "code",
   "execution_count": 3,
   "metadata": {},
   "outputs": [
    {
     "name": "stdout",
     "output_type": "stream",
     "text": [
      "752 ns ± 7.82 ns per loop (mean ± std. dev. of 7 runs, 1000000 loops each)\n"
     ]
    }
   ],
   "source": [
    "%timeit Newtroot(10,1e-8)"
   ]
  },
  {
   "cell_type": "code",
   "execution_count": 4,
   "metadata": {},
   "outputs": [
    {
     "name": "stdout",
     "output_type": "stream",
     "text": [
      "68.9 ns ± 2.06 ns per loop (mean ± std. dev. of 7 runs, 10000000 loops each)\n"
     ]
    }
   ],
   "source": [
    "%timeit math.sqrt(10)"
   ]
  },
  {
   "cell_type": "markdown",
   "metadata": {},
   "source": [
    "### The math package square root is ten times faster!\n",
    "\n",
    "### The math package defines important constants ...\n",
    "\n",
    "`math.pi`, `math.e`"
   ]
  },
  {
   "cell_type": "code",
   "execution_count": 5,
   "metadata": {},
   "outputs": [
    {
     "name": "stdout",
     "output_type": "stream",
     "text": [
      "The ratio of of circumference to diameter of a circle is: 3.141592653589793\n",
      "The base of the natural logarithm is: 2.718281828459045\n"
     ]
    }
   ],
   "source": [
    "print(\"The ratio of of circumference to diameter of a circle is:\", math.pi)\n",
    "print(\"The base of the natural logarithm is:\", math.e)"
   ]
  },
  {
   "cell_type": "markdown",
   "metadata": {},
   "source": [
    "### Formating printing ...\n",
    "We notice that python prints many digits of precision when we print a floating \n",
    "point number. And while that may make sense when printing mathematical constants,\n",
    "it is usually a distraction in engineering problems because it implies a\n",
    "numerical certainty that is typically not available.\n",
    "\n",
    "For example, if we print a sine table ..."
   ]
  },
  {
   "cell_type": "code",
   "execution_count": 6,
   "metadata": {},
   "outputs": [
    {
     "name": "stdout",
     "output_type": "stream",
     "text": [
      "0.0 0.0\n",
      "0.12566370614359174 0.12533323356430426\n",
      "0.25132741228718347 0.2486898871648548\n",
      "0.37699111843077515 0.3681245526846779\n",
      "0.5026548245743669 0.4817536741017153\n",
      "0.6283185307179586 0.5877852522924731\n",
      "0.7539822368615503 0.6845471059286886\n",
      "0.8796459430051421 0.7705132427757891\n",
      "1.0053096491487339 0.8443279255020151\n",
      "1.1309733552923256 0.9048270524660196\n",
      "1.2566370614359172 0.9510565162951535\n",
      "1.382300767579509 0.9822872507286886\n",
      "1.5079644737231006 0.9980267284282716\n",
      "1.6336281798666925 0.9980267284282716\n",
      "1.7592918860102842 0.9822872507286887\n",
      "1.8849555921538756 0.9510565162951536\n",
      "2.0106192982974678 0.9048270524660195\n",
      "2.1362830044410597 0.844327925502015\n",
      "2.261946710584651 0.7705132427757893\n",
      "2.3876104167282426 0.6845471059286888\n",
      "2.5132741228718345 0.5877852522924732\n",
      "2.6389378290154264 0.4817536741017152\n",
      "2.764601535159018 0.36812455268467814\n",
      "2.8902652413026093 0.24868988716485524\n",
      "3.015928947446201 0.12533323356430454\n",
      "3.141592653589793 1.2246467991473532e-16\n",
      "3.267256359733385 -0.1253332335643043\n",
      "3.3929200658769765 -0.24868988716485457\n",
      "3.5185837720205684 -0.3681245526846779\n",
      "3.6442474781641603 -0.4817536741017154\n",
      "3.7699111843077513 -0.5877852522924727\n",
      "3.895574890451343 -0.6845471059286884\n",
      "4.0212385965949355 -0.7705132427757894\n",
      "4.1469023027385274 -0.8443279255020153\n",
      "4.272566008882119 -0.9048270524660198\n",
      "4.39822971502571 -0.9510565162951535\n",
      "4.523893421169302 -0.9822872507286887\n",
      "4.649557127312894 -0.9980267284282716\n",
      "4.775220833456485 -0.9980267284282716\n",
      "4.900884539600077 -0.9822872507286887\n",
      "5.026548245743669 -0.9510565162951536\n",
      "5.15221195188726 -0.9048270524660199\n",
      "5.277875658030853 -0.8443279255020151\n",
      "5.403539364174444 -0.7705132427757896\n",
      "5.529203070318036 -0.684547105928689\n",
      "5.654866776461628 -0.5877852522924732\n",
      "5.780530482605219 -0.4817536741017161\n",
      "5.906194188748811 -0.3681245526846778\n",
      "6.031857894892402 -0.24868988716485535\n",
      "6.157521601035994 -0.12533323356430467\n"
     ]
    }
   ],
   "source": [
    "# This short program will print a table with 50 rows where\n",
    "# each row contains an argument and the sine of the argument.\n",
    "# The sine function will trace one complete period of length\n",
    "# 2*pi.\n",
    "P = math.pi;\n",
    "N = 50;\n",
    "for k in range(N):\n",
    "    t = 2*P*k/N;\n",
    "    print(t, math.sin(t))"
   ]
  },
  {
   "cell_type": "markdown",
   "metadata": {},
   "source": [
    "### Table above is very difficult to read ...\n",
    "\n",
    "## There are several ways to format printing\n",
    "\n",
    "Read the section: <a href=\"https://the-examples-book.com/book/python/printing-and-f-strings\" target=\"_blank\">Printing and F-strings.</a>"
   ]
  },
  {
   "cell_type": "code",
   "execution_count": 7,
   "metadata": {},
   "outputs": [
    {
     "name": "stdout",
     "output_type": "stream",
     "text": [
      "The value of pi is approximately 3.141592653589793\n",
      "\n",
      "The value of pi is approximately 3.142\n"
     ]
    }
   ],
   "source": [
    "# Compare two ways of printing pi\n",
    "print('The value of pi is approximately', P)\n",
    "print()\n",
    "print(f'The value of pi is approximately {math.pi:.3f}')"
   ]
  },
  {
   "cell_type": "code",
   "execution_count": 8,
   "metadata": {},
   "outputs": [
    {
     "name": "stdout",
     "output_type": "stream",
     "text": [
      "0.00   0.000\n",
      "0.13   0.125\n",
      "0.25   0.249\n",
      "0.38   0.368\n",
      "0.50   0.482\n",
      "0.63   0.588\n",
      "0.75   0.685\n",
      "0.88   0.771\n",
      "1.01   0.844\n",
      "1.13   0.905\n",
      "1.26   0.951\n",
      "1.38   0.982\n",
      "1.51   0.998\n",
      "1.63   0.998\n",
      "1.76   0.982\n",
      "1.88   0.951\n",
      "2.01   0.905\n",
      "2.14   0.844\n",
      "2.26   0.771\n",
      "2.39   0.685\n",
      "2.51   0.588\n",
      "2.64   0.482\n",
      "2.76   0.368\n",
      "2.89   0.249\n",
      "3.02   0.125\n",
      "3.14   0.000\n",
      "3.27   -0.125\n",
      "3.39   -0.249\n",
      "3.52   -0.368\n",
      "3.64   -0.482\n",
      "3.77   -0.588\n",
      "3.90   -0.685\n",
      "4.02   -0.771\n",
      "4.15   -0.844\n",
      "4.27   -0.905\n",
      "4.40   -0.951\n",
      "4.52   -0.982\n",
      "4.65   -0.998\n",
      "4.78   -0.998\n",
      "4.90   -0.982\n",
      "5.03   -0.951\n",
      "5.15   -0.905\n",
      "5.28   -0.844\n",
      "5.40   -0.771\n",
      "5.53   -0.685\n",
      "5.65   -0.588\n",
      "5.78   -0.482\n",
      "5.91   -0.368\n",
      "6.03   -0.249\n",
      "6.16   -0.125\n"
     ]
    }
   ],
   "source": [
    "# Prettier sine wave table.\n",
    "N = 50;\n",
    "for k in range(N):\n",
    "    t = 2*P*k/N;\n",
    "    print(f'{t:1.2f}   {math.sin(t):.3f}')"
   ]
  },
  {
   "cell_type": "markdown",
   "metadata": {},
   "source": [
    "### Notice how the negative sign causes the table to shift over. I do not like!\n",
    "\n",
    "There is material on string formatting found at ...\n",
    "<a href=\"https://https://docs.python.org/3/tutorial/inputoutput.html\" target=\"_blank\">Python.org on Input and Output.</a>\n",
    "\n",
    "But in short the format is:\n",
    "`{:[align] [minimum_width] [.precision] [descriptor]}`\n",
    "\n",
    "The square brackets indicate optional arguments. The minimum width and .precision are numbers. The allowed descriptors include\n",
    "* `s` --- string\n",
    "* `d` --- decimal integer\n",
    "* `f` --- floating point decimal\n",
    "\n",
    "The align options are\n",
    "* `>` --- right justify\n",
    "* `<` --- left justify\n",
    "* `^` --- center\n",
    "\n",
    "Then to fix the previous sine table to make it completely satifying we use right justify, a minimum width of spaces, and a precision of three decimal places."
   ]
  },
  {
   "cell_type": "code",
   "execution_count": 9,
   "metadata": {},
   "outputs": [
    {
     "name": "stdout",
     "output_type": "stream",
     "text": [
      "0.00    0.000\n",
      "0.13    0.125\n",
      "0.25    0.249\n",
      "0.38    0.368\n",
      "0.50    0.482\n",
      "0.63    0.588\n",
      "0.75    0.685\n",
      "0.88    0.771\n",
      "1.01    0.844\n",
      "1.13    0.905\n",
      "1.26    0.951\n",
      "1.38    0.982\n",
      "1.51    0.998\n",
      "1.63    0.998\n",
      "1.76    0.982\n",
      "1.88    0.951\n",
      "2.01    0.905\n",
      "2.14    0.844\n",
      "2.26    0.771\n",
      "2.39    0.685\n",
      "2.51    0.588\n",
      "2.64    0.482\n",
      "2.76    0.368\n",
      "2.89    0.249\n",
      "3.02    0.125\n",
      "3.14    0.000\n",
      "3.27   -0.125\n",
      "3.39   -0.249\n",
      "3.52   -0.368\n",
      "3.64   -0.482\n",
      "3.77   -0.588\n",
      "3.90   -0.685\n",
      "4.02   -0.771\n",
      "4.15   -0.844\n",
      "4.27   -0.905\n",
      "4.40   -0.951\n",
      "4.52   -0.982\n",
      "4.65   -0.998\n",
      "4.78   -0.998\n",
      "4.90   -0.982\n",
      "5.03   -0.951\n",
      "5.15   -0.905\n",
      "5.28   -0.844\n",
      "5.40   -0.771\n",
      "5.53   -0.685\n",
      "5.65   -0.588\n",
      "5.78   -0.482\n",
      "5.91   -0.368\n",
      "6.03   -0.249\n",
      "6.16   -0.125\n"
     ]
    }
   ],
   "source": [
    "# Prettier sine wave table.\n",
    "N = 50;\n",
    "for k in range(N):\n",
    "    t = 2*P*k/N;\n",
    "    print(f'{t:1.2f}   {math.sin(t):>6.3f}')"
   ]
  },
  {
   "cell_type": "code",
   "execution_count": null,
   "metadata": {},
   "outputs": [],
   "source": []
  },
  {
   "cell_type": "markdown",
   "metadata": {},
   "source": [
    "## 3. The Numpy Package"
   ]
  },
  {
   "cell_type": "markdown",
   "metadata": {},
   "source": [
    "All data manipulated by a computer is represented in binary. In otherwords, via one method or another, all data -- temperature sensor readings, hourly barometric pressure from your Davis weather station, an audio file, images from your Bushnell game camera, a yield map -- are represented as arrays of numbers.\n",
    "\n",
    "**NumPy (Numerical Python)** provides an efficient interface to store and compute on dense data buffers. NumPy arrays are much more efficient than Python's built-in list data type.\n",
    "\n",
    "See: <a href=\"http://www.numpy.org\" target=\"_blank\">The Numpy Package</a>."
   ]
  },
  {
   "cell_type": "code",
   "execution_count": 10,
   "metadata": {},
   "outputs": [
    {
     "data": {
      "text/plain": [
       "'1.20.1'"
      ]
     },
     "execution_count": 10,
     "metadata": {},
     "output_type": "execute_result"
    }
   ],
   "source": [
    "# Import the numpy package. This command allows us to refer to numpy\n",
    "# commands using the shorthand \"np\".\n",
    "import numpy as np\n",
    "\n",
    "# Which version of numpy are we running ...\n",
    "np.__version__"
   ]
  },
  {
   "cell_type": "code",
   "execution_count": null,
   "metadata": {},
   "outputs": [],
   "source": []
  },
  {
   "cell_type": "markdown",
   "metadata": {},
   "source": [
    "## 4. Plotting with Matplotlib Package\n",
    "\n",
    "### The Examples Book has a nice section on `matplotlib` ...\n",
    "\n",
    "<a href=\"https://the-examples-book.com/programming-languages/python/matplotlib\" target=\"_blank\">Matplotlib.</a>\n",
    "\n",
    "Please read this now ..."
   ]
  },
  {
   "cell_type": "code",
   "execution_count": 11,
   "metadata": {},
   "outputs": [],
   "source": [
    "# Import matplotlib and define a shorthand\n",
    "import matplotlib as mpl\n",
    "import matplotlib.pyplot as plt"
   ]
  },
  {
   "cell_type": "code",
   "execution_count": 12,
   "metadata": {},
   "outputs": [
    {
     "data": {
      "image/png": "[encoded data removed]",
      "text/plain": [
       "<Figure size 432x288 with 1 Axes>"
      ]
     },
     "metadata": {
      "needs_background": "light"
     },
     "output_type": "display_data"
    }
   ],
   "source": [
    "# Example data to make a plot\n",
    "x = np.array([1, 2, 3, 4, 5, 6, 7, 8, 9, 10]);  # Independent variable in the plot\n",
    "y = np.array([3, 1, 6, 5, 4, 11, -1, 1, 2, 6]); # The dependent variable in the plot\n",
    "\n",
    "# The commands for plotting y vs. x and formatting axes, etc.\n",
    "fig = plt.figure()\n",
    "plt.style.use('classic')\n",
    "plt.plot(x, y)\n",
    "plt.title(\"Example Plot\")\n",
    "plt.xlabel(\"x\")\n",
    "plt.ylabel(\"y\")\n",
    "plt.grid()"
   ]
  },
  {
   "cell_type": "code",
   "execution_count": 13,
   "metadata": {},
   "outputs": [
    {
     "data": {
      "image/png": "[encoded data removed]",
      "text/plain": [
       "<Figure size 640x480 with 1 Axes>"
      ]
     },
     "metadata": {},
     "output_type": "display_data"
    }
   ],
   "source": [
    "# Just another example plot\n",
    "x = np.linspace(0, 10, 100)\n",
    "fig2 = plt.figure()\n",
    "plt.style.use('seaborn-dark-palette')\n",
    "plt.plot(x, np.sin(x))\n",
    "plt.plot(x, np.cos(x))\n",
    "plt.grid()"
   ]
  },
  {
   "cell_type": "markdown",
   "metadata": {},
   "source": [
    "## United states wheat yield trends as a plotting example ...\n",
    "\n",
    "Data was obtained from the United States Department of Agriculture: <a href=\"https://quickstats.nass.usda.gov/\" target=\"_blank\">Quick Stats</a> (The USDA's National Ag Statistics Service -- we might make more use of this data source later)"
   ]
  },
  {
   "cell_type": "code",
   "execution_count": 14,
   "metadata": {},
   "outputs": [],
   "source": [
    "# The years for which we have average wheat yield data.\n",
    "wdates = np.array([2021, 2020, 2019, 2018, 2017, 2016, 2015, 2014, 2013, 2012, 2011, 2010, 2009, 2008, 2007, 2006, \n",
    "                   2005, 2004, 2003, 2002, 2001, 2000,1999, 1998, 1997, 1996, 1995, 1994, 1993, 1992, 1991, 1990, \n",
    "                   1989, 1988, 1987, 1986, 1985, 1984, 1983, 1982, 1981, 1980, 1979, 1978, 1977, 1976, 1975, 1974, \n",
    "                   1973, 1972, 1971, 1970, 1969, 1968, 1967,1966, 1965, 1964, 1963, 1962, 1961, 1960, 1959, 1958, \n",
    "                   1957, 1956, 1955, 1954, 1953, 1952, 1951, 1950, 1949, 1948, 1947, 1946, 1945,1944, 1943, 1942, \n",
    "                   1941, 1940, 1939, 1938, 1937, 1936, 1935, 1934, 1933, 1932, 1931, 1930, 1929, 1928, 1927, 1926, \n",
    "                   1925, 1924, 1923,1922, 1921, 1920, 1919, 1918, 1917, 1916, 1915, 1914, 1913, 1912,1911, 1910, \n",
    "                   1909, 1908, 1907, 1906, 1905, 1904, 1903, 1902, 1901,1900, 1899, 1898, 1897, 1896, 1895, 1894, \n",
    "                   1893, 1892, 1891, 1890,1889, 1888, 1887, 1886, 1885, 1884, 1883, 1882, 1881, 1880, 1879,1878, \n",
    "                   1877, 1876, 1875, 1874, 1873, 1872, 1871, 1870, 1869, 1868, 1867, 1866])"
   ]
  },
  {
   "cell_type": "code",
   "execution_count": 15,
   "metadata": {},
   "outputs": [],
   "source": [
    "# The average wheat yield data in the order to line up with the corresponding years.\n",
    "wyields = np.array([44.5, 49.7, 51.7, 47.6, 46.4, 52.7, 43.6, 43.7, 47.1, 46.2, 43.6, 46.1, 44.3, 44.8, 40.2, \n",
    "                    38.6, 42. , 43.2, 44.2, 35. , 40.2, 42. , 42.7, 43.2, 39.5, 36.3, 35.8, 37.6, 38.2, 39.3, \n",
    "                    34.3, 39.5, 32.7, 34.1, 37.7, 34.4, 37.5, 38.8, 39.4, 35.5, 34.5, 33.5, 34.2, 31.4, 30.7, \n",
    "                    30.3, 30.6, 27.3, 31.6, 32.7, 33.9, 31. , 30.6, 28.4, 25.8, 26.3, 26.5, 25.8, 25.2, 25. , \n",
    "                    23.9, 26.1, 21.6, 27.5, 21.8, 20.2, 19.8, 18.1, 17.3, 18.4, 16. , 16.5, 14.5, 17.9, 18.2, \n",
    "                    17.2, 17. , 17.7, 16.4, 19.5, 16.8, 15.3, 14.1, 13.3, 13.6, 12.8, 12.2, 12.1, 11.2, 13.1, \n",
    "                    16.3, 14.2, 13. , 15.4, 14.7, 14.7, 12.8, 16. , 13.3, 13.8, 12.7, 13.5, 12.9, 14.8, 13.2, \n",
    "                    11.9, 16.7, 16.1, 14.4, 15.1, 12.4, 13.7, 15.5, 14.3, 14.2, 16. , 15.2, 12.9, 13.7, 14.9, \n",
    "                    15. , 12.2, 12.5, 15.2, 14. , 12.8, 13.9, 13.5, 12.4, 14.2, 16.5, 12.2, 14. , 12.1, 13.3, \n",
    "                    14.1, 11.4, 14.8, 12.3, 15.1, 11. , 13.2, 13. , 13.5, 14.1, 10.9, 11.1, 13. , 12.9, 11.8, \n",
    "                    12.2, 12.1, 13.7, 12.9, 12.6, 11. ])"
   ]
  },
  {
   "cell_type": "code",
   "execution_count": 16,
   "metadata": {},
   "outputs": [
    {
     "data": {
      "image/png": "[encoded data removed]",
      "text/plain": [
       "<Figure size 640x480 with 1 Axes>"
      ]
     },
     "metadata": {},
     "output_type": "display_data"
    }
   ],
   "source": [
    "# Plotting the wheat yield trend\n",
    "fig3 = plt.figure()\n",
    "plt.style.use('classic')\n",
    "plt.plot(wdates, wyields)\n",
    "plt.title(\"United States Average Wheat Yield by Year\")\n",
    "plt.xlabel(\"Year\")\n",
    "plt.ylabel(\"Yield in bushels per acre\")\n",
    "plt.grid()"
   ]
  },
  {
   "cell_type": "code",
   "execution_count": null,
   "metadata": {},
   "outputs": [],
   "source": []
  },
  {
   "cell_type": "markdown",
   "metadata": {},
   "source": [
    "## HW problem. \n",
    "\n",
    "### Use the corn yield data given below to plot the corn and wheat yield trends on the same axes.\n",
    "\n",
    "Read the tutorial material on plotting in the Date Mine `Examples Book` ...\n",
    "\n",
    "<a href=\"https://the-examples-book.com/programming-languages/python/matplotlib\" target=\"_blank\">Matplotlib.</a>\n",
    "\n",
    "Also check out ...\n",
    "<a href=\"https://matplotlib.org/stable/tutorials/index.html\" target=\"_blank\">Matplotlib.org</a>\n",
    "\n",
    "### Experiment with the line colors, labels, legends, etc.\n",
    "\n",
    "### Estimate from the plot the trend in wheat and corn yield improvement over time. When did the trend start? Google around to find out about this yield improvement."
   ]
  },
  {
   "cell_type": "code",
   "execution_count": 17,
   "metadata": {},
   "outputs": [],
   "source": [
    "cdates = np.array([2021, 2020, 2019, 2018, 2017, 2016, 2015, 2014, 2013, 2012, 2011, 2010, 2009, 2008, 2007, 2006, \n",
    "                   2005, 2004, 2003, 2002, 2001, 2000, 1999, 1998, 1997, 1996, 1995, 1994, 1993, 1992, 1991, 1990, \n",
    "                   1989, 1988, 1987, 1986, 1985, 1984, 1983, 1982, 1981, 1980, 1979, 1978, 1977, 1976, 1975, 1974, \n",
    "                   1973, 1972, 1971, 1970, 1969, 1968, 1967, 1966, 1965, 1964, 1963, 1962, 1961, 1960, 1959, 1958, \n",
    "                   1957, 1956, 1955, 1954, 1953, 1952, 1951, 1950, 1949, 1948, 1947, 1946, 1945, 1944, 1943, 1942, \n",
    "                   1941, 1940, 1939, 1938, 1937, 1936, 1935, 1934, 1933, 1932, 1931, 1930, 1929, 1928, 1927, 1926, \n",
    "                   1925, 1924, 1923, 1922, 1921, 1920, 1919, 1918, 1917, 1916, 1915, 1914, 1913, 1912, 1911, 1910, \n",
    "                   1909, 1908, 1907, 1906, 1905, 1904, 1903, 1902, 1901, 1900, 1899, 1898, 1897, 1896, 1895, 1894, \n",
    "                   1893, 1892, 1891, 1890, 1889, 1888, 1887, 1886, 1885, 1884, 1883, 1882, 1881, 1880, 1879, 1878, \n",
    "                   1877, 1876, 1875, 1874, 1873, 1872, 1871, 1870, 1869, 1868, 1867, 1866])\n",
    "\n",
    "cyields = np.array([176.3, 172, 167.5, 176.4, 176.6, 174.6, 168.4, 171, 158.1, 123.1, 146.8, 152.6, 164.4, \n",
    "                    153.3, 150.7, 149.1, 147.9, 160.3, 142.2, 129.3, 138.2, 136.9, 133.8, 134.4, 126.7, \n",
    "                    127.1, 113.5, 138.6, 100.7, 131.5, 108.6, 118.5, 116.3, 84.6, 119.8, 119.4, 118, 106.7, \n",
    "                    81.1, 113.2, 108.9, 91, 109.5, 101, 90.8, 88, 86.4, 71.9, 91.3, 97, 88.1, 72.4, 85.9, 79.5, 80.1,\n",
    "                    73.1, 74.1, 62.9, 67.9, 64.7, 62.4, 54.7, 53.1, 52.8, 48.3, 47.4, 42, 39.4, 40.7, 41.8, 36.9, \n",
    "                    38.2, 38.2, 43, 28.6, 37.2, 33.1, 33, 32.6, 35.4, 31.2, 28.9, 29.9, 27.8, 28.9, 18.6, 24.2, \n",
    "                    18.7, 22.8, 26.5, 24.5, 20.5, 25.7, 26.3, 26.4, 25.7, 27.4, 22.1, 27.8, 26.3, 27.8, 29.9, 26.8, \n",
    "                    23.9, 26.2, 24.1, 28.1, 25.8, 22.7, 29.1, 24.4, 27.9, 26.1, 26.9, 27.2, 31.7, 30.9, 28.2, 26.9, \n",
    "                    28.5, 18.2, 28.1, 28, 26.8, 25.4, 30, 28, 20.2, 23.8, 24.7, 29.6, 22.1, 29.5, 29.1, 21.9, 24.1, \n",
    "                    28.6, 28.3, 24.2, 26.5, 19.8, 27.3, 28.2, 26.2, 25.8, 26.7, 27.7, 22.2, 22.9, 29.4, 27.2, 29.3, \n",
    "                    21.8, 26.2, 24.7, 24.3])"
   ]
  },
  {
   "cell_type": "markdown",
   "metadata": {},
   "source": [
    "## Solution .... (Put it here)"
   ]
  },
  {
   "cell_type": "code",
   "execution_count": null,
   "metadata": {},
   "outputs": [],
   "source": []
  },
  {
   "cell_type": "code",
   "execution_count": null,
   "metadata": {},
   "outputs": [],
   "source": []
  },
  {
   "cell_type": "code",
   "execution_count": null,
   "metadata": {},
   "outputs": [],
   "source": []
  },
  {
   "cell_type": "markdown",
   "metadata": {},
   "source": [
    "### Here is an interesting article ...\n",
    "\n",
    "<a href=\"https://www.agry.purdue.edu/ext/corn/news/timeless/yieldtrends.html#:~:text=Rapid%20adoption%20of%20double%2Dcross,grain%20yield%20improvement%20had%20occurred.\" target=\"_blank\">Corny News Network.</a>\n",
    "\n"
   ]
  },
  {
   "cell_type": "code",
   "execution_count": null,
   "metadata": {},
   "outputs": [],
   "source": []
  },
  {
   "cell_type": "markdown",
   "metadata": {},
   "source": [
    "## C integers vs. Python integers\n",
    "\n",
    "A C integer is essentially a label for a position in memory whose bytes encode an \n",
    "integer value.\n",
    "\n",
    "A Python integer is a label for a position in memory containing a C structure that \n",
    "contains the Python object information including the bytes that encode the integer \n",
    "value."
   ]
  },
  {
   "cell_type": "code",
   "execution_count": 18,
   "metadata": {},
   "outputs": [
    {
     "name": "stdout",
     "output_type": "stream",
     "text": [
      "1\n",
      "<class 'int'>\n",
      "The number of bytes needed to store this variable is 28\n"
     ]
    }
   ],
   "source": [
    "# L is an integer. Let's see how many bytes it requires (a byte is 8 bits)\n",
    "# sys.getsizeof() returns the number of bytes needed to encode \n",
    "# the object\n",
    "\n",
    "import sys\n",
    "\n",
    "L = 1\n",
    "print(L)\n",
    "print(type(L))\n",
    "\n",
    "\n",
    "print(f'The number of bytes needed to store this variable is {sys.getsizeof(L)}')"
   ]
  },
  {
   "cell_type": "markdown",
   "metadata": {},
   "source": [
    "**For information** about the `sys` package see: <a href=\"https://docs.python.org/3/library/sys.html\" target=\"_blank\">System-specific parameters and functions</a>.\n",
    "\n",
    "The size of a python integer is **not** strongly related to the size of the integer. This is an indication of the overhead associated with the representation. For example ..."
   ]
  },
  {
   "cell_type": "code",
   "execution_count": 19,
   "metadata": {},
   "outputs": [
    {
     "name": "stdout",
     "output_type": "stream",
     "text": [
      "Decimal Integer Hex Integer #Bytes Needed to Store\n",
      "_______________ ___________ ______________________\n",
      "           1    0x1                28\n",
      "           2    0x2                28\n",
      "           4    0x4                28\n",
      "           8    0x8                28\n",
      "          16    0x10               28\n",
      "          32    0x20               28\n",
      "          64    0x40               28\n",
      "         128    0x80               28\n",
      "         256    0x100              28\n",
      "         512    0x200              28\n",
      "        1024    0x400              28\n",
      "        2048    0x800              28\n",
      "        4096    0x1000             28\n",
      "        8192    0x2000             28\n",
      "       16384    0x4000             28\n",
      "       32768    0x8000             28\n",
      "       65536    0x10000            28\n",
      "      131072    0x20000            28\n",
      "      262144    0x40000            28\n",
      "      524288    0x80000            28\n",
      "     1048576    0x100000           28\n",
      "     2097152    0x200000           28\n",
      "     4194304    0x400000           28\n",
      "     8388608    0x800000           28\n",
      "    16777216    0x1000000          28\n",
      "    33554432    0x2000000          28\n",
      "    67108864    0x4000000          28\n",
      "   134217728    0x8000000          28\n",
      "   268435456    0x10000000         28\n",
      "   536870912    0x20000000         28\n",
      "  1073741824    0x40000000         32\n",
      "  2147483648    0x80000000         32\n",
      "  4294967296    0x100000000        32\n",
      "  8589934592    0x200000000        32\n",
      " 17179869184    0x400000000        32\n",
      " 34359738368    0x800000000        32\n",
      " 68719476736    0x1000000000       32\n",
      "137438953472    0x2000000000       32\n",
      "274877906944    0x4000000000       32\n",
      "549755813888    0x8000000000       32\n"
     ]
    }
   ],
   "source": [
    "print('Decimal Integer Hex Integer #Bytes Needed to Store')\n",
    "print('_______________ ___________ ______________________')\n",
    "\n",
    "for k in range(0,40):\n",
    "    L = 2**k\n",
    "    print(f'{L:12d}    {hex(L):12s}       {sys.getsizeof(L)}')"
   ]
  },
  {
   "cell_type": "markdown",
   "metadata": {},
   "source": [
    "## How about string variables?"
   ]
  },
  {
   "cell_type": "code",
   "execution_count": 20,
   "metadata": {},
   "outputs": [
    {
     "name": "stdout",
     "output_type": "stream",
     "text": [
      "1\n",
      "<class 'str'>\n",
      "The number of bytes needed to store this variable is 50\n"
     ]
    }
   ],
   "source": [
    "L = \"1\"\n",
    "print(L)\n",
    "print(type(L))\n",
    "print(f'The number of bytes needed to store this variable is {sys.getsizeof(L)}')"
   ]
  },
  {
   "cell_type": "code",
   "execution_count": 21,
   "metadata": {},
   "outputs": [
    {
     "name": "stdout",
     "output_type": "stream",
     "text": [
      "String         #Bytes Needed to Store\n",
      "______________ ______________________\n",
      "1                         50\n",
      "11                        51\n",
      "111                       52\n",
      "1111                      53\n",
      "11111                     54\n",
      "111111                    55\n",
      "1111111                   56\n",
      "11111111                  57\n",
      "111111111                 58\n",
      "1111111111                59\n",
      "11111111111               60\n",
      "111111111111              61\n",
      "1111111111111             62\n",
      "11111111111111            63\n",
      "111111111111111           64\n",
      "1111111111111111          65\n",
      "11111111111111111         66\n",
      "111111111111111111        67\n",
      "1111111111111111111       68\n",
      "11111111111111111111      69\n"
     ]
    }
   ],
   "source": [
    "print('String         #Bytes Needed to Store')\n",
    "print('______________ ______________________')\n",
    "\n",
    "L = \"1\"\n",
    "for k in range(0,20):\n",
    "    print(f'{L:20s}      {sys.getsizeof(L)}')\n",
    "    L = L + '1'\n"
   ]
  },
  {
   "cell_type": "markdown",
   "metadata": {},
   "source": [
    "## Now for Lists, Arrays, Numpy Arrays ..."
   ]
  },
  {
   "cell_type": "code",
   "execution_count": 22,
   "metadata": {},
   "outputs": [
    {
     "name": "stdout",
     "output_type": "stream",
     "text": [
      "[0, 1, 2, 3, 4, 5, 6, 7, 8, 9, 10, 11, 12, 13, 14, 15, 16, 17, 18, 19]\n",
      "<class 'list'>\n",
      "<class 'int'>\n",
      "216\n"
     ]
    }
   ],
   "source": [
    "L1 = list(range(20))\n",
    "print(L1)\n",
    "print(type(L1))\n",
    "print(type(L1[0]))\n",
    "print(sys.getsizeof(L1))"
   ]
  },
  {
   "cell_type": "code",
   "execution_count": 23,
   "metadata": {},
   "outputs": [
    {
     "name": "stdout",
     "output_type": "stream",
     "text": [
      "['0', '1', '2', '3', '4', '5', '6', '7', '8', '9', '10', '11', '12', '13', '14', '15', '16', '17', '18', '19']\n",
      "<class 'list'>\n",
      "<class 'str'>\n",
      "256\n"
     ]
    }
   ],
   "source": [
    "L2 = [str(c) for c in L1]\n",
    "print(L2)\n",
    "print(type(L2))\n",
    "print(type(L2[0]))\n",
    "print(sys.getsizeof(L2))"
   ]
  },
  {
   "cell_type": "code",
   "execution_count": 24,
   "metadata": {},
   "outputs": [
    {
     "name": "stdout",
     "output_type": "stream",
     "text": [
      "array('i', [0, 1, 2, 3, 4, 5, 6, 7, 8, 9, 10, 11, 12, 13, 14, 15, 16, 17, 18, 19, 20, 21, 22, 23, 24, 25, 26, 27, 28, 29, 30, 31, 32, 33, 34, 35, 36, 37, 38, 39, 40, 41, 42, 43, 44, 45, 46, 47, 48, 49, 50, 51, 52, 53, 54, 55, 56, 57, 58, 59, 60, 61, 62, 63, 64, 65, 66, 67, 68, 69, 70, 71, 72, 73, 74, 75, 76, 77, 78, 79, 80, 81, 82, 83, 84, 85, 86, 87, 88, 89, 90, 91, 92, 93, 94, 95, 96, 97, 98, 99])\n",
      "<class 'array.array'>\n",
      "<class 'int'>\n",
      "464\n",
      "\n",
      "\n",
      "[0, 1, 2, 3, 4, 5, 6, 7, 8, 9, 10, 11, 12, 13, 14, 15, 16, 17, 18, 19, 20, 21, 22, 23, 24, 25, 26, 27, 28, 29, 30, 31, 32, 33, 34, 35, 36, 37, 38, 39, 40, 41, 42, 43, 44, 45, 46, 47, 48, 49, 50, 51, 52, 53, 54, 55, 56, 57, 58, 59, 60, 61, 62, 63, 64, 65, 66, 67, 68, 69, 70, 71, 72, 73, 74, 75, 76, 77, 78, 79, 80, 81, 82, 83, 84, 85, 86, 87, 88, 89, 90, 91, 92, 93, 94, 95, 96, 97, 98, 99]\n",
      "<class 'list'>\n",
      "<class 'int'>\n",
      "856\n"
     ]
    }
   ],
   "source": [
    "# Comparing Python list and Python array\n",
    "\n",
    "import array\n",
    "L = list(range(100))\n",
    "A = array.array('i',L)\n",
    "\n",
    "print(A)\n",
    "print(type(A))\n",
    "print(type(A[0]))\n",
    "print(sys.getsizeof(A))\n",
    "\n",
    "print(\"\\n\")\n",
    "\n",
    "print(L)\n",
    "print(type(L))\n",
    "print(type(L[0]))\n",
    "print(sys.getsizeof(L))"
   ]
  },
  {
   "cell_type": "markdown",
   "metadata": {},
   "source": [
    "The python array is **more efficient for storage** than is the python list because overhead can be reduced given all the elements in the array are of the same type.\n",
    "\n",
    "### Numpy array vs. array wrt storage ..."
   ]
  },
  {
   "cell_type": "code",
   "execution_count": 25,
   "metadata": {},
   "outputs": [
    {
     "name": "stdout",
     "output_type": "stream",
     "text": [
      "[ 0  1  2  3  4  5  6  7  8  9 10 11 12 13 14 15 16 17 18 19 20 21 22 23\n",
      " 24 25 26 27 28 29 30 31 32 33 34 35 36 37 38 39 40 41 42 43 44 45 46 47\n",
      " 48 49 50 51 52 53 54 55 56 57 58 59 60 61 62 63 64 65 66 67 68 69 70 71\n",
      " 72 73 74 75 76 77 78 79 80 81 82 83 84 85 86 87 88 89 90 91 92 93 94 95\n",
      " 96 97 98 99]\n",
      "<class 'numpy.ndarray'>\n",
      "904\n",
      "itemsize: 8 bytes\n",
      "nbytes: 800 bytes\n"
     ]
    }
   ],
   "source": [
    "# The Python array object offers (more) efficient storage of array-based data than does \n",
    "# the list object. Numpy arrays also add efficient computations on that data.\n",
    "\n",
    "ND = np.array(L) # np.array is used to create an ndarray from a Python list\n",
    "print(ND)\n",
    "print(type(ND))\n",
    "print(sys.getsizeof(ND))\n",
    "print(\"itemsize:\", ND.itemsize, \"bytes\")\n",
    "print(\"nbytes:\", ND.nbytes, \"bytes\")"
   ]
  },
  {
   "cell_type": "markdown",
   "metadata": {},
   "source": [
    "**Note** the numpy array at 896 bytes comes in between the list at 1008 bytes and the array at 464 bytes. Numpy gets its advantage from computation.\n",
    "\n",
    "## Computation Comparisons ...\n",
    "\n",
    "Make some arrays of reasonable length and then square the elements in each using `for` loops and comparing to numpy's built in `ufuncs`."
   ]
  },
  {
   "cell_type": "code",
   "execution_count": 26,
   "metadata": {},
   "outputs": [
    {
     "name": "stdout",
     "output_type": "stream",
     "text": [
      "252 µs ± 4.01 µs per loop (mean ± std. dev. of 7 runs, 1000 loops each)\n",
      "[0, 1, 4, 9, 16, 25, 36, 49, 64, 81, 100, 121, 144, 169, 196, 225, 256, 289, 324, 361, 400, 441, 484, 529, 576, 625, 676, 729, 784, 841, 900, 961, 1024, 1089, 1156, 1225, 1296, 1369, 1444, 1521, 1600, 1681, 1764, 1849, 1936, 2025, 2116, 2209, 2304, 2401, 2500, 2601, 2704, 2809, 2916, 3025, 3136, 3249, 3364, 3481, 3600, 3721, 3844, 3969, 4096, 4225, 4356, 4489, 4624, 4761, 4900, 5041, 5184, 5329, 5476, 5625, 5776, 5929, 6084, 6241, 6400, 6561, 6724, 6889, 7056, 7225, 7396, 7569, 7744, 7921, 8100, 8281, 8464, 8649, 8836, 9025, 9216, 9409, 9604, 9801, 10000, 10201, 10404, 10609, 10816, 11025, 11236, 11449, 11664, 11881, 12100, 12321, 12544, 12769, 12996, 13225, 13456, 13689, 13924, 14161, 14400, 14641, 14884, 15129, 15376, 15625, 15876, 16129, 16384, 16641, 16900, 17161, 17424, 17689, 17956, 18225, 18496, 18769, 19044, 19321, 19600, 19881, 20164, 20449, 20736, 21025, 21316, 21609, 21904, 22201, 22500, 22801, 23104, 23409, 23716, 24025, 24336, 24649, 24964, 25281, 25600, 25921, 26244, 26569, 26896, 27225, 27556, 27889, 28224, 28561, 28900, 29241, 29584, 29929, 30276, 30625, 30976, 31329, 31684, 32041, 32400, 32761, 33124, 33489, 33856, 34225, 34596, 34969, 35344, 35721, 36100, 36481, 36864, 37249, 37636, 38025, 38416, 38809, 39204, 39601, 40000, 40401, 40804, 41209, 41616, 42025, 42436, 42849, 43264, 43681, 44100, 44521, 44944, 45369, 45796, 46225, 46656, 47089, 47524, 47961, 48400, 48841, 49284, 49729, 50176, 50625, 51076, 51529, 51984, 52441, 52900, 53361, 53824, 54289, 54756, 55225, 55696, 56169, 56644, 57121, 57600, 58081, 58564, 59049, 59536, 60025, 60516, 61009, 61504, 62001, 62500, 63001, 63504, 64009, 64516, 65025, 65536, 66049, 66564, 67081, 67600, 68121, 68644, 69169, 69696, 70225, 70756, 71289, 71824, 72361, 72900, 73441, 73984, 74529, 75076, 75625, 76176, 76729, 77284, 77841, 78400, 78961, 79524, 80089, 80656, 81225, 81796, 82369, 82944, 83521, 84100, 84681, 85264, 85849, 86436, 87025, 87616, 88209, 88804, 89401, 90000, 90601, 91204, 91809, 92416, 93025, 93636, 94249, 94864, 95481, 96100, 96721, 97344, 97969, 98596, 99225, 99856, 100489, 101124, 101761, 102400, 103041, 103684, 104329, 104976, 105625, 106276, 106929, 107584, 108241, 108900, 109561, 110224, 110889, 111556, 112225, 112896, 113569, 114244, 114921, 115600, 116281, 116964, 117649, 118336, 119025, 119716, 120409, 121104, 121801, 122500, 123201, 123904, 124609, 125316, 126025, 126736, 127449, 128164, 128881, 129600, 130321, 131044, 131769, 132496, 133225, 133956, 134689, 135424, 136161, 136900, 137641, 138384, 139129, 139876, 140625, 141376, 142129, 142884, 143641, 144400, 145161, 145924, 146689, 147456, 148225, 148996, 149769, 150544, 151321, 152100, 152881, 153664, 154449, 155236, 156025, 156816, 157609, 158404, 159201, 160000, 160801, 161604, 162409, 163216, 164025, 164836, 165649, 166464, 167281, 168100, 168921, 169744, 170569, 171396, 172225, 173056, 173889, 174724, 175561, 176400, 177241, 178084, 178929, 179776, 180625, 181476, 182329, 183184, 184041, 184900, 185761, 186624, 187489, 188356, 189225, 190096, 190969, 191844, 192721, 193600, 194481, 195364, 196249, 197136, 198025, 198916, 199809, 200704, 201601, 202500, 203401, 204304, 205209, 206116, 207025, 207936, 208849, 209764, 210681, 211600, 212521, 213444, 214369, 215296, 216225, 217156, 218089, 219024, 219961, 220900, 221841, 222784, 223729, 224676, 225625, 226576, 227529, 228484, 229441, 230400, 231361, 232324, 233289, 234256, 235225, 236196, 237169, 238144, 239121, 240100, 241081, 242064, 243049, 244036, 245025, 246016, 247009, 248004, 249001, 250000, 251001, 252004, 253009, 254016, 255025, 256036, 257049, 258064, 259081, 260100, 261121, 262144, 263169, 264196, 265225, 266256, 267289, 268324, 269361, 270400, 271441, 272484, 273529, 274576, 275625, 276676, 277729, 278784, 279841, 280900, 281961, 283024, 284089, 285156, 286225, 287296, 288369, 289444, 290521, 291600, 292681, 293764, 294849, 295936, 297025, 298116, 299209, 300304, 301401, 302500, 303601, 304704, 305809, 306916, 308025, 309136, 310249, 311364, 312481, 313600, 314721, 315844, 316969, 318096, 319225, 320356, 321489, 322624, 323761, 324900, 326041, 327184, 328329, 329476, 330625, 331776, 332929, 334084, 335241, 336400, 337561, 338724, 339889, 341056, 342225, 343396, 344569, 345744, 346921, 348100, 349281, 350464, 351649, 352836, 354025, 355216, 356409, 357604, 358801, 360000, 361201, 362404, 363609, 364816, 366025, 367236, 368449, 369664, 370881, 372100, 373321, 374544, 375769, 376996, 378225, 379456, 380689, 381924, 383161, 384400, 385641, 386884, 388129, 389376, 390625, 391876, 393129, 394384, 395641, 396900, 398161, 399424, 400689, 401956, 403225, 404496, 405769, 407044, 408321, 409600, 410881, 412164, 413449, 414736, 416025, 417316, 418609, 419904, 421201, 422500, 423801, 425104, 426409, 427716, 429025, 430336, 431649, 432964, 434281, 435600, 436921, 438244, 439569, 440896, 442225, 443556, 444889, 446224, 447561, 448900, 450241, 451584, 452929, 454276, 455625, 456976, 458329, 459684, 461041, 462400, 463761, 465124, 466489, 467856, 469225, 470596, 471969, 473344, 474721, 476100, 477481, 478864, 480249, 481636, 483025, 484416, 485809, 487204, 488601, 490000, 491401, 492804, 494209, 495616, 497025, 498436, 499849, 501264, 502681, 504100, 505521, 506944, 508369, 509796, 511225, 512656, 514089, 515524, 516961, 518400, 519841, 521284, 522729, 524176, 525625, 527076, 528529, 529984, 531441, 532900, 534361, 535824, 537289, 538756, 540225, 541696, 543169, 544644, 546121, 547600, 549081, 550564, 552049, 553536, 555025, 556516, 558009, 559504, 561001, 562500, 564001, 565504, 567009, 568516, 570025, 571536, 573049, 574564, 576081, 577600, 579121, 580644, 582169, 583696, 585225, 586756, 588289, 589824, 591361, 592900, 594441, 595984, 597529, 599076, 600625, 602176, 603729, 605284, 606841, 608400, 609961, 611524, 613089, 614656, 616225, 617796, 619369, 620944, 622521, 624100, 625681, 627264, 628849, 630436, 632025, 633616, 635209, 636804, 638401, 640000, 641601, 643204, 644809, 646416, 648025, 649636, 651249, 652864, 654481, 656100, 657721, 659344, 660969, 662596, 664225, 665856, 667489, 669124, 670761, 672400, 674041, 675684, 677329, 678976, 680625, 682276, 683929, 685584, 687241, 688900, 690561, 692224, 693889, 695556, 697225, 698896, 700569, 702244, 703921, 705600, 707281, 708964, 710649, 712336, 714025, 715716, 717409, 719104, 720801, 722500, 724201, 725904, 727609, 729316, 731025, 732736, 734449, 736164, 737881, 739600, 741321, 743044, 744769, 746496, 748225, 749956, 751689, 753424, 755161, 756900, 758641, 760384, 762129, 763876, 765625, 767376, 769129, 770884, 772641, 774400, 776161, 777924, 779689, 781456, 783225, 784996, 786769, 788544, 790321, 792100, 793881, 795664, 797449, 799236, 801025, 802816, 804609, 806404, 808201, 810000, 811801, 813604, 815409, 817216, 819025, 820836, 822649, 824464, 826281, 828100, 829921, 831744, 833569, 835396, 837225, 839056, 840889, 842724, 844561, 846400, 848241, 850084, 851929, 853776, 855625, 857476, 859329, 861184, 863041, 864900, 866761, 868624, 870489, 872356, 874225, 876096, 877969, 879844, 881721, 883600, 885481, 887364, 889249, 891136, 893025, 894916, 896809, 898704, 900601, 902500, 904401, 906304, 908209, 910116, 912025, 913936, 915849, 917764, 919681, 921600, 923521, 925444, 927369, 929296, 931225, 933156, 935089, 937024, 938961, 940900, 942841, 944784, 946729, 948676, 950625, 952576, 954529, 956484, 958441, 960400, 962361, 964324, 966289, 968256, 970225, 972196, 974169, 976144, 978121, 980100, 982081, 984064, 986049, 988036, 990025, 992016, 994009, 996004, 998001]\n"
     ]
    }
   ],
   "source": [
    "# Make a plain python array and then square the elements using a for loop ...\n",
    "A = array.array('i', range(1000))\n",
    "\n",
    "%timeit A2 = [A[k]**2 for k in range(1000)]\n",
    "\n",
    "A2 = [A[k]**2 for k in range(1000)]\n",
    "\n",
    "print(A2)"
   ]
  },
  {
   "cell_type": "code",
   "execution_count": 27,
   "metadata": {},
   "outputs": [
    {
     "name": "stdout",
     "output_type": "stream",
     "text": [
      "198 µs ± 4.68 µs per loop (mean ± std. dev. of 7 runs, 1000 loops each)\n",
      "[0, 1, 4, 9, 16, 25, 36, 49, 64, 81, 100, 121, 144, 169, 196, 225, 256, 289, 324, 361, 400, 441, 484, 529, 576, 625, 676, 729, 784, 841, 900, 961, 1024, 1089, 1156, 1225, 1296, 1369, 1444, 1521, 1600, 1681, 1764, 1849, 1936, 2025, 2116, 2209, 2304, 2401, 2500, 2601, 2704, 2809, 2916, 3025, 3136, 3249, 3364, 3481, 3600, 3721, 3844, 3969, 4096, 4225, 4356, 4489, 4624, 4761, 4900, 5041, 5184, 5329, 5476, 5625, 5776, 5929, 6084, 6241, 6400, 6561, 6724, 6889, 7056, 7225, 7396, 7569, 7744, 7921, 8100, 8281, 8464, 8649, 8836, 9025, 9216, 9409, 9604, 9801, 10000, 10201, 10404, 10609, 10816, 11025, 11236, 11449, 11664, 11881, 12100, 12321, 12544, 12769, 12996, 13225, 13456, 13689, 13924, 14161, 14400, 14641, 14884, 15129, 15376, 15625, 15876, 16129, 16384, 16641, 16900, 17161, 17424, 17689, 17956, 18225, 18496, 18769, 19044, 19321, 19600, 19881, 20164, 20449, 20736, 21025, 21316, 21609, 21904, 22201, 22500, 22801, 23104, 23409, 23716, 24025, 24336, 24649, 24964, 25281, 25600, 25921, 26244, 26569, 26896, 27225, 27556, 27889, 28224, 28561, 28900, 29241, 29584, 29929, 30276, 30625, 30976, 31329, 31684, 32041, 32400, 32761, 33124, 33489, 33856, 34225, 34596, 34969, 35344, 35721, 36100, 36481, 36864, 37249, 37636, 38025, 38416, 38809, 39204, 39601, 40000, 40401, 40804, 41209, 41616, 42025, 42436, 42849, 43264, 43681, 44100, 44521, 44944, 45369, 45796, 46225, 46656, 47089, 47524, 47961, 48400, 48841, 49284, 49729, 50176, 50625, 51076, 51529, 51984, 52441, 52900, 53361, 53824, 54289, 54756, 55225, 55696, 56169, 56644, 57121, 57600, 58081, 58564, 59049, 59536, 60025, 60516, 61009, 61504, 62001, 62500, 63001, 63504, 64009, 64516, 65025, 65536, 66049, 66564, 67081, 67600, 68121, 68644, 69169, 69696, 70225, 70756, 71289, 71824, 72361, 72900, 73441, 73984, 74529, 75076, 75625, 76176, 76729, 77284, 77841, 78400, 78961, 79524, 80089, 80656, 81225, 81796, 82369, 82944, 83521, 84100, 84681, 85264, 85849, 86436, 87025, 87616, 88209, 88804, 89401, 90000, 90601, 91204, 91809, 92416, 93025, 93636, 94249, 94864, 95481, 96100, 96721, 97344, 97969, 98596, 99225, 99856, 100489, 101124, 101761, 102400, 103041, 103684, 104329, 104976, 105625, 106276, 106929, 107584, 108241, 108900, 109561, 110224, 110889, 111556, 112225, 112896, 113569, 114244, 114921, 115600, 116281, 116964, 117649, 118336, 119025, 119716, 120409, 121104, 121801, 122500, 123201, 123904, 124609, 125316, 126025, 126736, 127449, 128164, 128881, 129600, 130321, 131044, 131769, 132496, 133225, 133956, 134689, 135424, 136161, 136900, 137641, 138384, 139129, 139876, 140625, 141376, 142129, 142884, 143641, 144400, 145161, 145924, 146689, 147456, 148225, 148996, 149769, 150544, 151321, 152100, 152881, 153664, 154449, 155236, 156025, 156816, 157609, 158404, 159201, 160000, 160801, 161604, 162409, 163216, 164025, 164836, 165649, 166464, 167281, 168100, 168921, 169744, 170569, 171396, 172225, 173056, 173889, 174724, 175561, 176400, 177241, 178084, 178929, 179776, 180625, 181476, 182329, 183184, 184041, 184900, 185761, 186624, 187489, 188356, 189225, 190096, 190969, 191844, 192721, 193600, 194481, 195364, 196249, 197136, 198025, 198916, 199809, 200704, 201601, 202500, 203401, 204304, 205209, 206116, 207025, 207936, 208849, 209764, 210681, 211600, 212521, 213444, 214369, 215296, 216225, 217156, 218089, 219024, 219961, 220900, 221841, 222784, 223729, 224676, 225625, 226576, 227529, 228484, 229441, 230400, 231361, 232324, 233289, 234256, 235225, 236196, 237169, 238144, 239121, 240100, 241081, 242064, 243049, 244036, 245025, 246016, 247009, 248004, 249001, 250000, 251001, 252004, 253009, 254016, 255025, 256036, 257049, 258064, 259081, 260100, 261121, 262144, 263169, 264196, 265225, 266256, 267289, 268324, 269361, 270400, 271441, 272484, 273529, 274576, 275625, 276676, 277729, 278784, 279841, 280900, 281961, 283024, 284089, 285156, 286225, 287296, 288369, 289444, 290521, 291600, 292681, 293764, 294849, 295936, 297025, 298116, 299209, 300304, 301401, 302500, 303601, 304704, 305809, 306916, 308025, 309136, 310249, 311364, 312481, 313600, 314721, 315844, 316969, 318096, 319225, 320356, 321489, 322624, 323761, 324900, 326041, 327184, 328329, 329476, 330625, 331776, 332929, 334084, 335241, 336400, 337561, 338724, 339889, 341056, 342225, 343396, 344569, 345744, 346921, 348100, 349281, 350464, 351649, 352836, 354025, 355216, 356409, 357604, 358801, 360000, 361201, 362404, 363609, 364816, 366025, 367236, 368449, 369664, 370881, 372100, 373321, 374544, 375769, 376996, 378225, 379456, 380689, 381924, 383161, 384400, 385641, 386884, 388129, 389376, 390625, 391876, 393129, 394384, 395641, 396900, 398161, 399424, 400689, 401956, 403225, 404496, 405769, 407044, 408321, 409600, 410881, 412164, 413449, 414736, 416025, 417316, 418609, 419904, 421201, 422500, 423801, 425104, 426409, 427716, 429025, 430336, 431649, 432964, 434281, 435600, 436921, 438244, 439569, 440896, 442225, 443556, 444889, 446224, 447561, 448900, 450241, 451584, 452929, 454276, 455625, 456976, 458329, 459684, 461041, 462400, 463761, 465124, 466489, 467856, 469225, 470596, 471969, 473344, 474721, 476100, 477481, 478864, 480249, 481636, 483025, 484416, 485809, 487204, 488601, 490000, 491401, 492804, 494209, 495616, 497025, 498436, 499849, 501264, 502681, 504100, 505521, 506944, 508369, 509796, 511225, 512656, 514089, 515524, 516961, 518400, 519841, 521284, 522729, 524176, 525625, 527076, 528529, 529984, 531441, 532900, 534361, 535824, 537289, 538756, 540225, 541696, 543169, 544644, 546121, 547600, 549081, 550564, 552049, 553536, 555025, 556516, 558009, 559504, 561001, 562500, 564001, 565504, 567009, 568516, 570025, 571536, 573049, 574564, 576081, 577600, 579121, 580644, 582169, 583696, 585225, 586756, 588289, 589824, 591361, 592900, 594441, 595984, 597529, 599076, 600625, 602176, 603729, 605284, 606841, 608400, 609961, 611524, 613089, 614656, 616225, 617796, 619369, 620944, 622521, 624100, 625681, 627264, 628849, 630436, 632025, 633616, 635209, 636804, 638401, 640000, 641601, 643204, 644809, 646416, 648025, 649636, 651249, 652864, 654481, 656100, 657721, 659344, 660969, 662596, 664225, 665856, 667489, 669124, 670761, 672400, 674041, 675684, 677329, 678976, 680625, 682276, 683929, 685584, 687241, 688900, 690561, 692224, 693889, 695556, 697225, 698896, 700569, 702244, 703921, 705600, 707281, 708964, 710649, 712336, 714025, 715716, 717409, 719104, 720801, 722500, 724201, 725904, 727609, 729316, 731025, 732736, 734449, 736164, 737881, 739600, 741321, 743044, 744769, 746496, 748225, 749956, 751689, 753424, 755161, 756900, 758641, 760384, 762129, 763876, 765625, 767376, 769129, 770884, 772641, 774400, 776161, 777924, 779689, 781456, 783225, 784996, 786769, 788544, 790321, 792100, 793881, 795664, 797449, 799236, 801025, 802816, 804609, 806404, 808201, 810000, 811801, 813604, 815409, 817216, 819025, 820836, 822649, 824464, 826281, 828100, 829921, 831744, 833569, 835396, 837225, 839056, 840889, 842724, 844561, 846400, 848241, 850084, 851929, 853776, 855625, 857476, 859329, 861184, 863041, 864900, 866761, 868624, 870489, 872356, 874225, 876096, 877969, 879844, 881721, 883600, 885481, 887364, 889249, 891136, 893025, 894916, 896809, 898704, 900601, 902500, 904401, 906304, 908209, 910116, 912025, 913936, 915849, 917764, 919681, 921600, 923521, 925444, 927369, 929296, 931225, 933156, 935089, 937024, 938961, 940900, 942841, 944784, 946729, 948676, 950625, 952576, 954529, 956484, 958441, 960400, 962361, 964324, 966289, 968256, 970225, 972196, 974169, 976144, 978121, 980100, 982081, 984064, 986049, 988036, 990025, 992016, 994009, 996004, 998001]\n"
     ]
    }
   ],
   "source": [
    "# Make a numpy python array and then square the elements using a for loop ...\n",
    "ND = np.array(range(1000))\n",
    "\n",
    "%timeit ND2_v1 = [ND[k]**2 for k in range(1000)]\n",
    "\n",
    "ND2_v1 = [ND[k]**2 for k in range(1000)]\n",
    "\n",
    "print(ND2_v1)"
   ]
  },
  {
   "cell_type": "code",
   "execution_count": 28,
   "metadata": {},
   "outputs": [
    {
     "name": "stdout",
     "output_type": "stream",
     "text": [
      "631 ns ± 6.65 ns per loop (mean ± std. dev. of 7 runs, 1000000 loops each)\n",
      "[     0      1      4      9     16     25     36     49     64     81\n",
      "    100    121    144    169    196    225    256    289    324    361\n",
      "    400    441    484    529    576    625    676    729    784    841\n",
      "    900    961   1024   1089   1156   1225   1296   1369   1444   1521\n",
      "   1600   1681   1764   1849   1936   2025   2116   2209   2304   2401\n",
      "   2500   2601   2704   2809   2916   3025   3136   3249   3364   3481\n",
      "   3600   3721   3844   3969   4096   4225   4356   4489   4624   4761\n",
      "   4900   5041   5184   5329   5476   5625   5776   5929   6084   6241\n",
      "   6400   6561   6724   6889   7056   7225   7396   7569   7744   7921\n",
      "   8100   8281   8464   8649   8836   9025   9216   9409   9604   9801\n",
      "  10000  10201  10404  10609  10816  11025  11236  11449  11664  11881\n",
      "  12100  12321  12544  12769  12996  13225  13456  13689  13924  14161\n",
      "  14400  14641  14884  15129  15376  15625  15876  16129  16384  16641\n",
      "  16900  17161  17424  17689  17956  18225  18496  18769  19044  19321\n",
      "  19600  19881  20164  20449  20736  21025  21316  21609  21904  22201\n",
      "  22500  22801  23104  23409  23716  24025  24336  24649  24964  25281\n",
      "  25600  25921  26244  26569  26896  27225  27556  27889  28224  28561\n",
      "  28900  29241  29584  29929  30276  30625  30976  31329  31684  32041\n",
      "  32400  32761  33124  33489  33856  34225  34596  34969  35344  35721\n",
      "  36100  36481  36864  37249  37636  38025  38416  38809  39204  39601\n",
      "  40000  40401  40804  41209  41616  42025  42436  42849  43264  43681\n",
      "  44100  44521  44944  45369  45796  46225  46656  47089  47524  47961\n",
      "  48400  48841  49284  49729  50176  50625  51076  51529  51984  52441\n",
      "  52900  53361  53824  54289  54756  55225  55696  56169  56644  57121\n",
      "  57600  58081  58564  59049  59536  60025  60516  61009  61504  62001\n",
      "  62500  63001  63504  64009  64516  65025  65536  66049  66564  67081\n",
      "  67600  68121  68644  69169  69696  70225  70756  71289  71824  72361\n",
      "  72900  73441  73984  74529  75076  75625  76176  76729  77284  77841\n",
      "  78400  78961  79524  80089  80656  81225  81796  82369  82944  83521\n",
      "  84100  84681  85264  85849  86436  87025  87616  88209  88804  89401\n",
      "  90000  90601  91204  91809  92416  93025  93636  94249  94864  95481\n",
      "  96100  96721  97344  97969  98596  99225  99856 100489 101124 101761\n",
      " 102400 103041 103684 104329 104976 105625 106276 106929 107584 108241\n",
      " 108900 109561 110224 110889 111556 112225 112896 113569 114244 114921\n",
      " 115600 116281 116964 117649 118336 119025 119716 120409 121104 121801\n",
      " 122500 123201 123904 124609 125316 126025 126736 127449 128164 128881\n",
      " 129600 130321 131044 131769 132496 133225 133956 134689 135424 136161\n",
      " 136900 137641 138384 139129 139876 140625 141376 142129 142884 143641\n",
      " 144400 145161 145924 146689 147456 148225 148996 149769 150544 151321\n",
      " 152100 152881 153664 154449 155236 156025 156816 157609 158404 159201\n",
      " 160000 160801 161604 162409 163216 164025 164836 165649 166464 167281\n",
      " 168100 168921 169744 170569 171396 172225 173056 173889 174724 175561\n",
      " 176400 177241 178084 178929 179776 180625 181476 182329 183184 184041\n",
      " 184900 185761 186624 187489 188356 189225 190096 190969 191844 192721\n",
      " 193600 194481 195364 196249 197136 198025 198916 199809 200704 201601\n",
      " 202500 203401 204304 205209 206116 207025 207936 208849 209764 210681\n",
      " 211600 212521 213444 214369 215296 216225 217156 218089 219024 219961\n",
      " 220900 221841 222784 223729 224676 225625 226576 227529 228484 229441\n",
      " 230400 231361 232324 233289 234256 235225 236196 237169 238144 239121\n",
      " 240100 241081 242064 243049 244036 245025 246016 247009 248004 249001\n",
      " 250000 251001 252004 253009 254016 255025 256036 257049 258064 259081\n",
      " 260100 261121 262144 263169 264196 265225 266256 267289 268324 269361\n",
      " 270400 271441 272484 273529 274576 275625 276676 277729 278784 279841\n",
      " 280900 281961 283024 284089 285156 286225 287296 288369 289444 290521\n",
      " 291600 292681 293764 294849 295936 297025 298116 299209 300304 301401\n",
      " 302500 303601 304704 305809 306916 308025 309136 310249 311364 312481\n",
      " 313600 314721 315844 316969 318096 319225 320356 321489 322624 323761\n",
      " 324900 326041 327184 328329 329476 330625 331776 332929 334084 335241\n",
      " 336400 337561 338724 339889 341056 342225 343396 344569 345744 346921\n",
      " 348100 349281 350464 351649 352836 354025 355216 356409 357604 358801\n",
      " 360000 361201 362404 363609 364816 366025 367236 368449 369664 370881\n",
      " 372100 373321 374544 375769 376996 378225 379456 380689 381924 383161\n",
      " 384400 385641 386884 388129 389376 390625 391876 393129 394384 395641\n",
      " 396900 398161 399424 400689 401956 403225 404496 405769 407044 408321\n",
      " 409600 410881 412164 413449 414736 416025 417316 418609 419904 421201\n",
      " 422500 423801 425104 426409 427716 429025 430336 431649 432964 434281\n",
      " 435600 436921 438244 439569 440896 442225 443556 444889 446224 447561\n",
      " 448900 450241 451584 452929 454276 455625 456976 458329 459684 461041\n",
      " 462400 463761 465124 466489 467856 469225 470596 471969 473344 474721\n",
      " 476100 477481 478864 480249 481636 483025 484416 485809 487204 488601\n",
      " 490000 491401 492804 494209 495616 497025 498436 499849 501264 502681\n",
      " 504100 505521 506944 508369 509796 511225 512656 514089 515524 516961\n",
      " 518400 519841 521284 522729 524176 525625 527076 528529 529984 531441\n",
      " 532900 534361 535824 537289 538756 540225 541696 543169 544644 546121\n",
      " 547600 549081 550564 552049 553536 555025 556516 558009 559504 561001\n",
      " 562500 564001 565504 567009 568516 570025 571536 573049 574564 576081\n",
      " 577600 579121 580644 582169 583696 585225 586756 588289 589824 591361\n",
      " 592900 594441 595984 597529 599076 600625 602176 603729 605284 606841\n",
      " 608400 609961 611524 613089 614656 616225 617796 619369 620944 622521\n",
      " 624100 625681 627264 628849 630436 632025 633616 635209 636804 638401\n",
      " 640000 641601 643204 644809 646416 648025 649636 651249 652864 654481\n",
      " 656100 657721 659344 660969 662596 664225 665856 667489 669124 670761\n",
      " 672400 674041 675684 677329 678976 680625 682276 683929 685584 687241\n",
      " 688900 690561 692224 693889 695556 697225 698896 700569 702244 703921\n",
      " 705600 707281 708964 710649 712336 714025 715716 717409 719104 720801\n",
      " 722500 724201 725904 727609 729316 731025 732736 734449 736164 737881\n",
      " 739600 741321 743044 744769 746496 748225 749956 751689 753424 755161\n",
      " 756900 758641 760384 762129 763876 765625 767376 769129 770884 772641\n",
      " 774400 776161 777924 779689 781456 783225 784996 786769 788544 790321\n",
      " 792100 793881 795664 797449 799236 801025 802816 804609 806404 808201\n",
      " 810000 811801 813604 815409 817216 819025 820836 822649 824464 826281\n",
      " 828100 829921 831744 833569 835396 837225 839056 840889 842724 844561\n",
      " 846400 848241 850084 851929 853776 855625 857476 859329 861184 863041\n",
      " 864900 866761 868624 870489 872356 874225 876096 877969 879844 881721\n",
      " 883600 885481 887364 889249 891136 893025 894916 896809 898704 900601\n",
      " 902500 904401 906304 908209 910116 912025 913936 915849 917764 919681\n",
      " 921600 923521 925444 927369 929296 931225 933156 935089 937024 938961\n",
      " 940900 942841 944784 946729 948676 950625 952576 954529 956484 958441\n",
      " 960400 962361 964324 966289 968256 970225 972196 974169 976144 978121\n",
      " 980100 982081 984064 986049 988036 990025 992016 994009 996004 998001]\n"
     ]
    }
   ],
   "source": [
    "%timeit ND_v2 = np.multiply(ND,ND)\n",
    "\n",
    "ND_v2 = np.multiply(ND,ND)\n",
    "\n",
    "print(ND_v2)"
   ]
  },
  {
   "cell_type": "markdown",
   "metadata": {},
   "source": [
    "### The squaring of the numpy array elements using the `ufunc` method is about 350 times faster than a `for` loop!\n",
    "\n",
    "There is also a shorthand for numpy ufunc. For example:\n",
    "\n",
    "`np.multiply(ND,ND) = ND**2 = ND*ND`\n",
    "\n"
   ]
  },
  {
   "cell_type": "code",
   "execution_count": null,
   "metadata": {},
   "outputs": [],
   "source": []
  },
  {
   "cell_type": "markdown",
   "metadata": {},
   "source": [
    "## Arrays and indexing\n",
    "We are going to need to use some of python's array indexing and slicing capabilities below. Therefore, we introduce them here."
   ]
  },
  {
   "cell_type": "code",
   "execution_count": 29,
   "metadata": {},
   "outputs": [
    {
     "name": "stdout",
     "output_type": "stream",
     "text": [
      "[6 9 3 5 9 8 4 7 3 6 2 1 0 8 1 8 6 8 0 1]\n",
      "6\n",
      "8\n"
     ]
    }
   ],
   "source": [
    "# Make an example one-dimensional array and fill it with random \n",
    "# integers. As used below the integers are between 0 and 9. The\n",
    "# array size is 20. The first entry in the array is x[0] and the last\n",
    "# is x[19]\n",
    "\n",
    "x1 = np.random.randint(10, size=20)\n",
    "print(x1)\n",
    "print(x1[0])\n",
    "print(x1[5])"
   ]
  },
  {
   "cell_type": "code",
   "execution_count": 30,
   "metadata": {},
   "outputs": [
    {
     "name": "stdout",
     "output_type": "stream",
     "text": [
      "(20,)\n",
      "20\n"
     ]
    }
   ],
   "source": [
    "# The \"shape\" method shows that x1 is a one-dimensional array of\n",
    "# length 20\n",
    "print(x1.shape)\n",
    "print(len(x1))"
   ]
  },
  {
   "cell_type": "markdown",
   "metadata": {},
   "source": [
    "## Array slicing\n",
    "This capability allows a simple way to access subarrays contained inside of an array. The notation uses the `:` operator. To access a slice of a **one-dimensional** array:\n",
    "\n",
    "- x1[start:stop:step]\n",
    "\n",
    "where\n",
    "\n",
    "- start is the beginning index (default if unspecified: start = 0)\n",
    "- stop is the ending index plus 1 (default if unspecified: stop = len(x1))\n",
    "- step is the spacing (default if unspecified: step = 1)"
   ]
  },
  {
   "cell_type": "code",
   "execution_count": 31,
   "metadata": {},
   "outputs": [
    {
     "data": {
      "text/plain": [
       "array([6, 9, 3, 5, 9, 8, 4, 7, 3, 6, 2, 1, 0, 8, 1, 8, 6, 8, 0, 1])"
      ]
     },
     "execution_count": 31,
     "metadata": {},
     "output_type": "execute_result"
    }
   ],
   "source": [
    "x1"
   ]
  },
  {
   "cell_type": "code",
   "execution_count": 32,
   "metadata": {},
   "outputs": [
    {
     "data": {
      "text/plain": [
       "array([9, 3, 5, 9, 8, 4, 7, 3, 6, 2])"
      ]
     },
     "execution_count": 32,
     "metadata": {},
     "output_type": "execute_result"
    }
   ],
   "source": [
    "x1[1:11]"
   ]
  },
  {
   "cell_type": "code",
   "execution_count": 33,
   "metadata": {},
   "outputs": [
    {
     "data": {
      "text/plain": [
       "array([9, 5, 8, 7, 6])"
      ]
     },
     "execution_count": 33,
     "metadata": {},
     "output_type": "execute_result"
    }
   ],
   "source": [
    "# Every other entry starting from second entry and ending by the\n",
    "# 11th\n",
    "x1[1:11:2]"
   ]
  },
  {
   "cell_type": "code",
   "execution_count": 34,
   "metadata": {},
   "outputs": [
    {
     "data": {
      "text/plain": [
       "array([9, 9, 7, 2])"
      ]
     },
     "execution_count": 34,
     "metadata": {},
     "output_type": "execute_result"
    }
   ],
   "source": [
    "# Ditto but every third\n",
    "x1[1:11:3]"
   ]
  },
  {
   "cell_type": "code",
   "execution_count": 35,
   "metadata": {},
   "outputs": [
    {
     "data": {
      "text/plain": [
       "array([6, 9, 3, 5, 9, 8, 4, 7, 3, 6, 2])"
      ]
     },
     "execution_count": 35,
     "metadata": {},
     "output_type": "execute_result"
    }
   ],
   "source": [
    "# Starting from first entry\n",
    "x1[:11]"
   ]
  },
  {
   "cell_type": "code",
   "execution_count": 36,
   "metadata": {},
   "outputs": [
    {
     "data": {
      "text/plain": [
       "array([6, 9, 3, 5, 9, 8, 4, 7, 3, 6, 2, 1, 0, 8, 1, 8, 6, 8, 0, 1])"
      ]
     },
     "execution_count": 36,
     "metadata": {},
     "output_type": "execute_result"
    }
   ],
   "source": [
    "# Another way to get the entire array. Useful with multidimensional\n",
    "# arrays\n",
    "x1[:]"
   ]
  },
  {
   "cell_type": "code",
   "execution_count": 37,
   "metadata": {},
   "outputs": [
    {
     "data": {
      "text/plain": [
       "array([6, 3, 9, 4, 3, 2, 0, 1, 6, 0])"
      ]
     },
     "execution_count": 37,
     "metadata": {},
     "output_type": "execute_result"
    }
   ],
   "source": [
    "# Every other entry starting from first (i.e., even indices)\n",
    "x1[::2]"
   ]
  },
  {
   "cell_type": "code",
   "execution_count": 38,
   "metadata": {},
   "outputs": [
    {
     "data": {
      "text/plain": [
       "array([9, 5, 8, 7, 6, 1, 8, 8, 8, 1])"
      ]
     },
     "execution_count": 38,
     "metadata": {},
     "output_type": "execute_result"
    }
   ],
   "source": [
    "# Every other entry starting from second (i.e., odd indices)\n",
    "x1[1::2]"
   ]
  },
  {
   "cell_type": "markdown",
   "metadata": {},
   "source": [
    "## Two-dimensional arrays"
   ]
  },
  {
   "cell_type": "code",
   "execution_count": 39,
   "metadata": {},
   "outputs": [
    {
     "name": "stdout",
     "output_type": "stream",
     "text": [
      "[[6 8 8 9 2 9 4 4 4 7]\n",
      " [4 4 5 6 7 8 4 9 1 8]\n",
      " [7 3 3 2 5 2 6 9 5 6]\n",
      " [9 1 7 2 3 1 7 7 1 5]\n",
      " [5 6 2 7 2 5 1 1 9 6]\n",
      " [7 7 1 4 9 0 7 3 0 6]\n",
      " [1 4 2 6 5 7 2 9 4 4]\n",
      " [7 6 4 5 4 0 2 7 1 8]\n",
      " [7 5 7 0 3 0 6 5 9 3]\n",
      " [1 4 6 9 8 7 9 2 6 5]]\n"
     ]
    }
   ],
   "source": [
    "# Now generalize to matrix (a.k.a., a two-dimensional array).\n",
    "x2 = np.random.randint(10, size=(10,10))\n",
    "print(x2)"
   ]
  },
  {
   "cell_type": "code",
   "execution_count": 40,
   "metadata": {},
   "outputs": [
    {
     "data": {
      "text/plain": [
       "5"
      ]
     },
     "execution_count": 40,
     "metadata": {},
     "output_type": "execute_result"
    }
   ],
   "source": [
    "# How to address an individual entry in x2 ...\n",
    "x2[2,4]"
   ]
  },
  {
   "cell_type": "code",
   "execution_count": 41,
   "metadata": {},
   "outputs": [
    {
     "data": {
      "text/plain": [
       "array([7, 3, 3, 2, 5, 2, 6, 9, 5, 6])"
      ]
     },
     "execution_count": 41,
     "metadata": {},
     "output_type": "execute_result"
    }
   ],
   "source": [
    "# How to address the individual rows of x2 ...\n",
    "x2[2,:]"
   ]
  },
  {
   "cell_type": "code",
   "execution_count": 42,
   "metadata": {},
   "outputs": [
    {
     "data": {
      "text/plain": [
       "array([8, 4, 3, 1, 6, 7, 4, 6, 5, 4])"
      ]
     },
     "execution_count": 42,
     "metadata": {},
     "output_type": "execute_result"
    }
   ],
   "source": [
    "# How to address the individual columns of x2\n",
    "x2[:,1]"
   ]
  },
  {
   "cell_type": "markdown",
   "metadata": {},
   "source": [
    "### Notice how numpy treats the row and column arrays as 1D arrays. In otherwords, it does not keep track of the distinction between a row and a column of a matrix ..."
   ]
  },
  {
   "cell_type": "code",
   "execution_count": 43,
   "metadata": {},
   "outputs": [
    {
     "data": {
      "text/plain": [
       "array([[5, 6],\n",
       "       [3, 2]])"
      ]
     },
     "execution_count": 43,
     "metadata": {},
     "output_type": "execute_result"
    }
   ],
   "source": [
    "# How to extract a sub-array\n",
    "x2[1:3,2:4]"
   ]
  },
  {
   "cell_type": "code",
   "execution_count": 44,
   "metadata": {},
   "outputs": [
    {
     "data": {
      "text/plain": [
       "array([[6, 8, 8, 9, 2, 9, 4, 4, 4, 7],\n",
       "       [4, 4, 5, 6, 7, 8, 4, 9, 1, 8],\n",
       "       [7, 3, 3, 2, 5, 2, 6, 9, 5, 6],\n",
       "       [9, 1, 7, 2, 3, 1, 7, 7, 1, 5],\n",
       "       [5, 6, 2, 7, 2, 5, 1, 1, 9, 6],\n",
       "       [7, 7, 1, 4, 9, 0, 7, 3, 0, 6],\n",
       "       [1, 4, 2, 6, 5, 7, 2, 9, 4, 4],\n",
       "       [7, 6, 4, 5, 4, 0, 2, 7, 1, 8],\n",
       "       [7, 5, 7, 0, 3, 0, 6, 5, 9, 3],\n",
       "       [1, 4, 6, 9, 8, 7, 9, 2, 6, 5]])"
      ]
     },
     "execution_count": 44,
     "metadata": {},
     "output_type": "execute_result"
    }
   ],
   "source": [
    "# Just to see the original\n",
    "x2"
   ]
  },
  {
   "cell_type": "code",
   "execution_count": 45,
   "metadata": {},
   "outputs": [
    {
     "data": {
      "text/plain": [
       "array([[6, 8, 2, 4, 4],\n",
       "       [7, 3, 5, 6, 5],\n",
       "       [5, 2, 2, 1, 9],\n",
       "       [1, 2, 5, 2, 4],\n",
       "       [7, 7, 3, 6, 9]])"
      ]
     },
     "execution_count": 45,
     "metadata": {},
     "output_type": "execute_result"
    }
   ],
   "source": [
    "# Subarray with every other row and column (even) \n",
    "x2[::2,::2]"
   ]
  },
  {
   "cell_type": "code",
   "execution_count": 46,
   "metadata": {},
   "outputs": [
    {
     "data": {
      "text/plain": [
       "array([[4, 6, 8, 9, 8],\n",
       "       [1, 2, 1, 7, 5],\n",
       "       [7, 4, 0, 3, 6],\n",
       "       [6, 5, 0, 7, 8],\n",
       "       [4, 9, 7, 2, 5]])"
      ]
     },
     "execution_count": 46,
     "metadata": {},
     "output_type": "execute_result"
    }
   ],
   "source": [
    "# Subarray with every other row and column (odd)\n",
    "x2[1::2,1::2]"
   ]
  },
  {
   "cell_type": "markdown",
   "metadata": {},
   "source": [
    "### Even and Odd Subarrays ...\n",
    "Each time we only get a fourth of the elements in the original. How would you index to get the rest of them?\n",
    "\n",
    "<img align=\"left\" src='Figs/SubarrayFig.png' width=\"700\"/>"
   ]
  },
  {
   "cell_type": "code",
   "execution_count": null,
   "metadata": {},
   "outputs": [],
   "source": []
  },
  {
   "cell_type": "markdown",
   "metadata": {},
   "source": [
    "## Numerical Linear Algebra\n",
    "\n",
    "Python is often used for operations associated with systems of linear equations. `Numpy` is a package that is useful for representing the arrays that hold: 1) the coefficient matrix defining the equations, 2) the column vector defining the unknown variables, and 3) the column vector holding the right-hand side of the matrix equation.\n",
    "\n",
    "There is also a package called `SciPy` which is useful for solving the equations."
   ]
  },
  {
   "cell_type": "code",
   "execution_count": null,
   "metadata": {},
   "outputs": [],
   "source": []
  },
  {
   "cell_type": "markdown",
   "metadata": {},
   "source": [
    "### Stop here to cipher on the white board ..."
   ]
  },
  {
   "cell_type": "code",
   "execution_count": null,
   "metadata": {},
   "outputs": [],
   "source": []
  },
  {
   "cell_type": "code",
   "execution_count": 47,
   "metadata": {},
   "outputs": [],
   "source": [
    "import numpy as np\n",
    "import scipy.linalg as la"
   ]
  },
  {
   "cell_type": "markdown",
   "metadata": {},
   "source": [
    "### 1D and 2D Arrays"
   ]
  },
  {
   "cell_type": "code",
   "execution_count": 48,
   "metadata": {},
   "outputs": [
    {
     "name": "stdout",
     "output_type": "stream",
     "text": [
      "[ 1  3 -2  1]\n",
      "The number of dimensions is: 1\n",
      "The shape of the array is: (4,)\n",
      "The size of the array is: 4\n"
     ]
    }
   ],
   "source": [
    "a = np.array([1, 3, -2, 1])\n",
    "print(a)\n",
    "print(f'The number of dimensions is: {a.ndim}')\n",
    "print(f'The shape of the array is: {a.shape}')\n",
    "print(f'The size of the array is: {a.size}')"
   ]
  },
  {
   "cell_type": "code",
   "execution_count": 49,
   "metadata": {},
   "outputs": [
    {
     "name": "stdout",
     "output_type": "stream",
     "text": [
      "[[ 1  2]\n",
      " [ 3  7]\n",
      " [-1  5]]\n",
      "The number of dimensions is: 2\n",
      "The shape of the array is: (3, 2)\n",
      "The size of the array is: 6\n"
     ]
    }
   ],
   "source": [
    "M = np.array([[1, 2], [3, 7], [-1, 5]])\n",
    "print(M)\n",
    "print(f'The number of dimensions is: {M.ndim}')\n",
    "print(f'The shape of the array is: {M.shape}')\n",
    "print(f'The size of the array is: {M.size}')"
   ]
  },
  {
   "cell_type": "code",
   "execution_count": 50,
   "metadata": {},
   "outputs": [
    {
     "name": "stdout",
     "output_type": "stream",
     "text": [
      "[2 7 5]\n",
      "The number of dimensions is: 1\n",
      "The shape of the column is: (3,)\n",
      "The size of the column is: 3\n",
      "\n",
      "[3 7]\n",
      "The number of dimensions is: 1\n",
      "The shape of the row is: (2,)\n",
      "The size of the row is: 2\n"
     ]
    }
   ],
   "source": [
    "# Selecting rows and/or columns from a 2D array produces 1D arrays\n",
    "col = M[:,1]\n",
    "print(col)\n",
    "print(f'The number of dimensions is: {col.ndim}')\n",
    "print(f'The shape of the column is: {col.shape}')\n",
    "print(f'The size of the column is: {col.size}')\n",
    "print()\n",
    "row = M[1,:]\n",
    "print(row)\n",
    "print(f'The number of dimensions is: {row.ndim}')\n",
    "print(f'The shape of the row is: {row.shape}')\n",
    "print(f'The size of the row is: {row.size}')"
   ]
  },
  {
   "cell_type": "markdown",
   "metadata": {},
   "source": [
    "### In both cases we ended up with a 1D array when sampling the 2D array. If we really want the column vector to be a 2D array, then this can be accomplished using the `reshape` method ..."
   ]
  },
  {
   "cell_type": "code",
   "execution_count": 51,
   "metadata": {},
   "outputs": [
    {
     "name": "stdout",
     "output_type": "stream",
     "text": [
      "[[2]\n",
      " [7]\n",
      " [5]]\n",
      "The number of dimensions is: 2\n",
      "The shape of the column is: (3, 1)\n",
      "The size of the column is: 3\n"
     ]
    }
   ],
   "source": [
    "newcol = col.reshape(3,1)\n",
    "print(newcol)\n",
    "print(f'The number of dimensions is: {newcol.ndim}')\n",
    "print(f'The shape of the column is: {newcol.shape}')\n",
    "print(f'The size of the column is: {newcol.size}')"
   ]
  },
  {
   "cell_type": "markdown",
   "metadata": {},
   "source": [
    "## Matrix Operations and Functions\n",
    "\n",
    "The matrix operations `+`, `-`, `/`, `*`, and `**` are performed elementwise on numpy arrays."
   ]
  },
  {
   "cell_type": "code",
   "execution_count": 52,
   "metadata": {},
   "outputs": [
    {
     "name": "stdout",
     "output_type": "stream",
     "text": [
      "[[ 1  2]\n",
      " [ 3  7]\n",
      " [-1  5]]\n"
     ]
    }
   ],
   "source": [
    "print(M)"
   ]
  },
  {
   "cell_type": "code",
   "execution_count": 53,
   "metadata": {},
   "outputs": [
    {
     "name": "stdout",
     "output_type": "stream",
     "text": [
      "[[ 2  4]\n",
      " [ 6 14]\n",
      " [-2 10]]\n"
     ]
    }
   ],
   "source": [
    "print(M + M)"
   ]
  },
  {
   "cell_type": "code",
   "execution_count": 54,
   "metadata": {},
   "outputs": [
    {
     "name": "stdout",
     "output_type": "stream",
     "text": [
      "[[ 1  4]\n",
      " [ 9 49]\n",
      " [ 1 25]]\n"
     ]
    }
   ],
   "source": [
    "print(M * M)"
   ]
  },
  {
   "cell_type": "markdown",
   "metadata": {},
   "source": [
    "### Standard matrix multiplication is performed with the `@` operator. The matrix dimensions must work out in order for this to be well-defined ..."
   ]
  },
  {
   "cell_type": "code",
   "execution_count": 55,
   "metadata": {},
   "outputs": [
    {
     "name": "stdout",
     "output_type": "stream",
     "text": [
      "[[1 3]\n",
      " [2 4]]\n"
     ]
    }
   ],
   "source": [
    "A = np.array([[1,3], [2,4]])\n",
    "print(A)"
   ]
  },
  {
   "cell_type": "code",
   "execution_count": 56,
   "metadata": {},
   "outputs": [
    {
     "name": "stdout",
     "output_type": "stream",
     "text": [
      "[[ 7 15]\n",
      " [10 22]]\n"
     ]
    }
   ],
   "source": [
    "print(A @ A)"
   ]
  },
  {
   "cell_type": "code",
   "execution_count": 57,
   "metadata": {},
   "outputs": [
    {
     "name": "stdout",
     "output_type": "stream",
     "text": [
      "[[2]\n",
      " [5]]\n"
     ]
    }
   ],
   "source": [
    "x = np.array([[2], [5]])\n",
    "print(x)"
   ]
  },
  {
   "cell_type": "code",
   "execution_count": 58,
   "metadata": {},
   "outputs": [
    {
     "name": "stdout",
     "output_type": "stream",
     "text": [
      "[[17]\n",
      " [24]]\n"
     ]
    }
   ],
   "source": [
    "print(A @ x)"
   ]
  },
  {
   "cell_type": "markdown",
   "metadata": {},
   "source": [
    "### Experiment with additional matrix operators, etc:\n",
    "\n",
    "* How to make an identity matrix with `np.eye`\n",
    "* Numpy has a matrix power function `np.linalg.matrix_power`\n",
    "* There is a matrix transpose operator ...\n",
    "* There is a matrix inverse function `scipy.linalg.inv`\n",
    "* There is a trace function `numpy.trace`\n",
    "* The determinant can be computed using `scipy.linalg.det`\n",
    "\n",
    "In many cases we will want to use a shorthand in order to not have to type the long names of these functions ...\n",
    "\n"
   ]
  },
  {
   "cell_type": "code",
   "execution_count": 59,
   "metadata": {},
   "outputs": [
    {
     "data": {
      "text/plain": [
       "array([[ 7, 15],\n",
       "       [10, 22]])"
      ]
     },
     "execution_count": 59,
     "metadata": {},
     "output_type": "execute_result"
    }
   ],
   "source": [
    "np.linalg.matrix_power(A, 2)"
   ]
  },
  {
   "cell_type": "code",
   "execution_count": 60,
   "metadata": {},
   "outputs": [
    {
     "data": {
      "text/plain": [
       "array([[ 7, 15],\n",
       "       [10, 22]])"
      ]
     },
     "execution_count": 60,
     "metadata": {},
     "output_type": "execute_result"
    }
   ],
   "source": [
    "from numpy.linalg import matrix_power as mpow\n",
    "mpow(A, 2)"
   ]
  },
  {
   "cell_type": "code",
   "execution_count": 61,
   "metadata": {},
   "outputs": [
    {
     "name": "stdout",
     "output_type": "stream",
     "text": [
      "[[1 2]\n",
      " [3 4]]\n"
     ]
    }
   ],
   "source": [
    "print(A.T)"
   ]
  },
  {
   "cell_type": "code",
   "execution_count": 62,
   "metadata": {},
   "outputs": [
    {
     "name": "stdout",
     "output_type": "stream",
     "text": [
      "[[-2.   1.5]\n",
      " [ 1.  -0.5]]\n"
     ]
    }
   ],
   "source": [
    "print(la.inv(A))"
   ]
  },
  {
   "cell_type": "code",
   "execution_count": null,
   "metadata": {},
   "outputs": [],
   "source": []
  },
  {
   "cell_type": "markdown",
   "metadata": {},
   "source": [
    "## Solving a systems of linear equations ...\n",
    "\n",
    "`scipy.linalg.solve`"
   ]
  },
  {
   "cell_type": "code",
   "execution_count": 63,
   "metadata": {},
   "outputs": [
    {
     "name": "stdout",
     "output_type": "stream",
     "text": [
      "[[ 2 -1]\n",
      " [ 1  1]]\n",
      "[[-3]\n",
      " [ 4]]\n"
     ]
    }
   ],
   "source": [
    "# Work on the problem we wrote on the board before\n",
    "\n",
    "A = np.array([[2, -1], [1, 1]])\n",
    "b = np.array([[-3], [4]])\n",
    "print(A)\n",
    "print(b)"
   ]
  },
  {
   "cell_type": "code",
   "execution_count": 64,
   "metadata": {},
   "outputs": [
    {
     "name": "stdout",
     "output_type": "stream",
     "text": [
      "[[0.33333333]\n",
      " [3.66666667]]\n"
     ]
    }
   ],
   "source": [
    "x = la.solve(A,b)\n",
    "print(x)"
   ]
  },
  {
   "cell_type": "code",
   "execution_count": null,
   "metadata": {},
   "outputs": [],
   "source": []
  },
  {
   "cell_type": "markdown",
   "metadata": {},
   "source": [
    "## HW Problem: Use least-squares to fit best lines to the wheat and corn yield trend data from before ..."
   ]
  },
  {
   "cell_type": "code",
   "execution_count": 65,
   "metadata": {},
   "outputs": [
    {
     "data": {
      "image/png": "[encoded data removed]",
      "text/plain": [
       "<Figure size 640x480 with 1 Axes>"
      ]
     },
     "metadata": {},
     "output_type": "display_data"
    }
   ],
   "source": [
    "# Plotting the wheat yield trend\n",
    "fig3 = plt.figure()\n",
    "plt.style.use('classic')\n",
    "plt.plot(wdates, wyields)\n",
    "plt.plot(cdates, cyields)\n",
    "plt.title(\"United States Average Corn and Wheat Yield by Year\")\n",
    "plt.xlabel(\"Year\")\n",
    "plt.ylabel(\"Yield in bushels per acre\")\n",
    "plt.grid()"
   ]
  },
  {
   "cell_type": "code",
   "execution_count": null,
   "metadata": {},
   "outputs": [],
   "source": []
  },
  {
   "cell_type": "markdown",
   "metadata": {},
   "source": [
    "### Stop here to cipher on the board ..."
   ]
  },
  {
   "cell_type": "code",
   "execution_count": null,
   "metadata": {},
   "outputs": [],
   "source": []
  },
  {
   "cell_type": "code",
   "execution_count": null,
   "metadata": {},
   "outputs": [],
   "source": []
  },
  {
   "cell_type": "code",
   "execution_count": null,
   "metadata": {},
   "outputs": [],
   "source": []
  },
  {
   "cell_type": "code",
   "execution_count": null,
   "metadata": {},
   "outputs": [],
   "source": []
  },
  {
   "cell_type": "code",
   "execution_count": null,
   "metadata": {},
   "outputs": [],
   "source": []
  }
 ],
 "metadata": {
  "kernelspec": {
   "display_name": "Python 3",
   "language": "python",
   "name": "python3"
  },
  "language_info": {
   "codemirror_mode": {
    "name": "ipython",
    "version": 3
   },
   "file_extension": ".py",
   "mimetype": "text/x-python",
   "name": "python",
   "nbconvert_exporter": "python",
   "pygments_lexer": "ipython3",
   "version": "3.8.8"
  }
 },
 "nbformat": 4,
 "nbformat_minor": 2
}
